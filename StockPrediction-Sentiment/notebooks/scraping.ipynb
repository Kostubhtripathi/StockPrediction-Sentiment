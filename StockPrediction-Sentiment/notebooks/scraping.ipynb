{
 "cells": [
  {
   "cell_type": "code",
   "execution_count": 1,
   "id": "eb1ff42c-92bf-433c-8fa9-cc011c474e43",
   "metadata": {},
   "outputs": [
    {
     "name": "stdout",
     "output_type": "stream",
     "text": [
      "Data saved to 'reddit_stock_posts.csv'\n"
     ]
    }
   ],
   "source": [
    "import praw\n",
    "import pandas as pd\n",
    "from datetime import datetime\n",
    "\n",
    "# Set up your own Reddit API\n",
    "reddit = praw.Reddit(client_id='WnuO5reN4obudQ_h8Xn5Cw',\n",
    "                     client_secret='O2p9u6koJwIxdWQ',\n",
    "                     user_agent='StockScraperBot/1.0 by Grand_Impression5791')\n",
    "\n",
    "# Define the subreddit and fetch posts\n",
    "subreddit = reddit.subreddit('wallstreetbets')\n",
    "posts = []\n",
    "\n",
    "for post in subreddit.hot(limit=100):\n",
    "    posts.append({\n",
    "        'title': post.title,\n",
    "        'text': post.selftext,\n",
    "        'score': post.score,\n",
    "        'upvotes': post.upvote_ratio,\n",
    "        'comments': post.num_comments,\n",
    "        'created_at': datetime.utcfromtimestamp(post.created_utc).strftime('%Y-%m-%d'),  # Convert to human-readable format\n",
    "    })\n",
    "\n",
    "# Convert the list of posts to a DataFrame\n",
    "df = pd.DataFrame(posts)\n",
    "\n",
    "# Save the DataFrame to a CSV file\n",
    "df.to_csv('test.csv', index=False)\n",
    "\n",
    "print(\"Data saved to 'reddit_stock_posts.csv'\")"
   ]
  },
  {
   "cell_type": "code",
   "execution_count": null,
   "id": "f8cb9728-28fd-405d-9d61-d2d9cfa333a2",
   "metadata": {},
   "outputs": [],
   "source": []
  }
 ],
 "metadata": {
  "kernelspec": {
   "display_name": "Python 3 (ipykernel)",
   "language": "python",
   "name": "python3"
  },
  "language_info": {
   "codemirror_mode": {
    "name": "ipython",
    "version": 3
   },
   "file_extension": ".py",
   "mimetype": "text/x-python",
   "name": "python",
   "nbconvert_exporter": "python",
   "pygments_lexer": "ipython3",
   "version": "3.11.8"
  }
 },
 "nbformat": 4,
 "nbformat_minor": 5
}
