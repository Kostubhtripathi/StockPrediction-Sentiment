{
 "cells": [
  {
   "cell_type": "code",
   "execution_count": null,
   "id": "0be1e7c3-43a2-45a4-a7bb-cf14235d9e42",
   "metadata": {},
   "outputs": [],
   "source": [
    "import joblib\n",
    "import pandas as pd\n",
    "from sklearn.feature_extraction.text import TfidfVectorizer\n",
    "import numpy as np\n",
    "\n",
    "# Step 1: Load the trained model and vectorizers\n",
    "model = joblib.load('stock_sentiment_model.pkl')\n",
    "tfidf_vectorizer = joblib.load('tfidf_vectorizer.pkl')\n",
    "label_encoder = joblib.load('label_encoder.pkl')\n"
   ]
  },
  {
   "cell_type": "code",
   "execution_count": null,
   "id": "1de6cd7e-1979-479e-8396-60b272a18f1a",
   "metadata": {},
   "outputs": [],
   "source": [
    "# Step 2: Load your new Reddit data (assuming you've already fetched it)\n",
    "df = pd.read_csv('abc.csv')\n",
    "\n",
    "# Step 3: Preprocess the data for prediction\n",
    "# Combine the 'title' and 'text' columns to create 'cleaned_text'\n",
    "df['cleaned_text'] = df['title'] + \" \" + df['text']  # Or use just title or text\n",
    "\n",
    "# Step 4: Handle missing values in 'cleaned_text'\n",
    "# You can fill NaN with an empty string or drop rows with NaN values\n",
    "df['cleaned_text'] = df['cleaned_text'].fillna('')  # Fill NaN with an empty string"
   ]
  },
  {
   "cell_type": "code",
   "execution_count": null,
   "id": "af83dadc-8e03-4d40-b3c7-51d34ea60232",
   "metadata": {},
   "outputs": [],
   "source": [
    "# Step 5: Vectorize the text data using the same TF-IDF vectorizer you used during training\n",
    "# Ensure that the tfidf_vectorizer is using the same vocabulary as when it was fitted\n",
    "X_tfidf = tfidf_vectorizer.transform(df['cleaned_text'])  # Use transformed cleaned_text\n",
    "\n",
    "# Extract numerical features from stock-related columns\n",
    "X_numerical = df[['score', 'upvotes', 'comments']]  # Add any other numerical features if necessary\n",
    "\n",
    "# Align the number of features: Ensure the text vectorizer's output matches training data\n",
    "X_combined = np.hstack([X_numerical, X_tfidf.toarray()])"
   ]
  },
  {
   "cell_type": "code",
   "execution_count": null,
   "id": "2ebf56dd-5ac9-4069-a71f-233c13f26e7d",
   "metadata": {},
   "outputs": [],
   "source": [
    "# Step 6: Make predictions using the trained model\n",
    "y_pred = model.predict(X_combined)\n",
    "\n",
    "# Step 7: Decode the predicted labels back to original sentiment categories\n",
    "y_pred_labels = label_encoder.inverse_transform(y_pred)\n",
    "\n",
    "# Step 8: Add predictions to the DataFrame\n",
    "df['predicted_sentiment'] = y_pred_labels\n",
    "\n",
    "# Step 9: Display the results\n",
    "print(df[['title', 'predicted_sentiment']].head())"
   ]
  },
  {
   "cell_type": "code",
   "execution_count": null,
   "id": "6b4fd784-5662-4635-880a-976f8ed28459",
   "metadata": {},
   "outputs": [],
   "source": [
    "# Step 10: Save the results to a CSV file (optional)\n",
    "df.to_csv('reddit_predictions_with_sentiment.csv', index=False)"
   ]
  },
  {
   "cell_type": "code",
   "execution_count": null,
   "id": "2f76e5e1-b1c9-400c-9850-045f9351e11b",
   "metadata": {},
   "outputs": [],
   "source": []
  },
  {
   "cell_type": "code",
   "execution_count": null,
   "id": "4db5c110-c90a-489e-9596-eefb8019839b",
   "metadata": {},
   "outputs": [],
   "source": []
  }
 ],
 "metadata": {
  "kernelspec": {
   "display_name": "Python 3 (ipykernel)",
   "language": "python",
   "name": "python3"
  },
  "language_info": {
   "codemirror_mode": {
    "name": "ipython",
    "version": 3
   },
   "file_extension": ".py",
   "mimetype": "text/x-python",
   "name": "python",
   "nbconvert_exporter": "python",
   "pygments_lexer": "ipython3",
   "version": "3.11.8"
  }
 },
 "nbformat": 4,
 "nbformat_minor": 5
}
