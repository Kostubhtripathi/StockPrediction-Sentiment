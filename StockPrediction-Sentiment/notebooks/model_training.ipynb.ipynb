{
 "cells": [
  {
   "cell_type": "code",
   "execution_count": null,
   "id": "56718a64-f8f8-4486-b3b5-0efd6bdace16",
   "metadata": {},
   "outputs": [],
   "source": [
    "import pandas as pd\n",
    "import numpy as np\n",
    "from sklearn.model_selection import train_test_split\n",
    "from sklearn.feature_extraction.text import TfidfVectorizer\n",
    "from sklearn.preprocessing import LabelEncoder\n",
    "from sklearn.ensemble import RandomForestClassifier\n",
    "from sklearn.metrics import accuracy_score, classification_report\n",
    "import joblib\n",
    "\n",
    "# Load your dataset\n",
    "df = pd.read_csv('abc.csv')\n",
    "\n",
    "# Step 1: Preprocess the text data\n",
    "df['cleaned_text'] = df['title'] + \" \" + df['text']  # Combine 'title' and 'text' columns for text data\n",
    "\n",
    "# Step 2: Handle missing values (if any)\n",
    "df['cleaned_text'] = df['cleaned_text'].fillna('')  # Fill missing text with an empty string\n",
    "\n",
    "# Step 3: Vectorize the text data using TF-IDF\n",
    "tfidf_vectorizer = TfidfVectorizer(max_features=500, stop_words='english')  # Using 500 features\n",
    "X_tfidf = tfidf_vectorizer.fit_transform(df['cleaned_text'])\n",
    "\n",
    "# Step 4: Extract numerical features\n",
    "X_numerical = df[['score', 'upvotes', 'comments']]  # Extract numerical features\n",
    "\n",
    "# Step 5: Combine the text features (TF-IDF) and numerical features\n",
    "X_combined = np.hstack([X_numerical, X_tfidf.toarray()])  # Combine numerical and TF-IDF features\n",
    "\n",
    "# Step 6: Prepare the target variable (sentiment categories)\n",
    "label_encoder = LabelEncoder()\n",
    "df['sentiment_category_encoded'] = label_encoder.fit_transform(df['sentiment_category'])  # Encode labels\n",
    "y = df['sentiment_category_encoded']  # Target variable"
   ]
  },
  {
   "cell_type": "code",
   "execution_count": null,
   "id": "139703f6-de49-44c3-b70c-c8739b6ae0b7",
   "metadata": {},
   "outputs": [],
   "source": [
    "# Step 7: Split the dataset into training and test sets\n",
    "X_train, X_test, y_train, y_test = train_test_split(X_combined, y, test_size=0.2, random_state=42)\n"
   ]
  },
  {
   "cell_type": "code",
   "execution_count": null,
   "id": "4ee75611-a8fe-4dd4-9352-6f555de2667f",
   "metadata": {},
   "outputs": [],
   "source": [
    "# Step 8: Train the RandomForestClassifier model\n",
    "model = RandomForestClassifier(n_estimators=100, random_state=42)\n",
    "model.fit(X_train, y_train)"
   ]
  },
  {
   "cell_type": "code",
   "execution_count": null,
   "id": "1199967e-603d-4649-acb8-f76c2b190dca",
   "metadata": {},
   "outputs": [],
   "source": [
    "# Step 9: Evaluate the model\n",
    "y_pred = model.predict(X_test)\n",
    "\n",
    "# Evaluate performance\n",
    "print(\"Accuracy:\", accuracy_score(y_test, y_pred))\n",
    "print(\"Classification Report:\\n\", classification_report(y_test, y_pred))\n",
    "\n",
    "# Step 10: Save the trained model and vectorizers (optional)\n",
    "joblib.dump(model, 'stock_sentiment_model.pkl')\n",
    "joblib.dump(tfidf_vectorizer, 'tfidf_vectorizer.pkl')\n",
    "joblib.dump(label_encoder, 'label_encoder.pkl')\n",
    "\n",
    "print(\"Model, vectorizer, and label encoder saved.\")"
   ]
  },
  {
   "cell_type": "code",
   "execution_count": null,
   "id": "b1665ae9-05a9-417a-9611-ce6bdf572680",
   "metadata": {},
   "outputs": [],
   "source": [
    "# Step 10: Save the trained model and vectorizers (optional)\n",
    "joblib.dump(model, 'stock_sentiment_model.pkl')\n",
    "joblib.dump(tfidf_vectorizer, 'tfidf_vectorizer.pkl')\n",
    "joblib.dump(label_encoder, 'label_encoder.pkl')\n",
    "\n",
    "print(\"Model, vectorizer, and label encoder saved.\")\n",
    "\n"
   ]
  },
  {
   "cell_type": "code",
   "execution_count": null,
   "id": "35010e88-56ad-4ab9-b46f-5fff2b4afde4",
   "metadata": {},
   "outputs": [],
   "source": [
    "# Optionally, display some predictions for inspection\n",
    "predictions = label_encoder.inverse_transform(y_pred)\n",
    "df_predictions = pd.DataFrame({'Actual': label_encoder.inverse_transform(y_test), 'Predicted': predictions})\n",
    "print(df_predictions.head())"
   ]
  }
 ],
 "metadata": {
  "kernelspec": {
   "display_name": "Python 3 (ipykernel)",
   "language": "python",
   "name": "python3"
  },
  "language_info": {
   "codemirror_mode": {
    "name": "ipython",
    "version": 3
   },
   "file_extension": ".py",
   "mimetype": "text/x-python",
   "name": "python",
   "nbconvert_exporter": "python",
   "pygments_lexer": "ipython3",
   "version": "3.11.8"
  }
 },
 "nbformat": 4,
 "nbformat_minor": 5
}
