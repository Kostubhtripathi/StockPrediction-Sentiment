{
 "cells": [
  {
   "cell_type": "code",
   "execution_count": 1,
   "id": "c1d9113d-619b-46d0-b941-ef096d638a0b",
   "metadata": {},
   "outputs": [
    {
     "name": "stdout",
     "output_type": "stream",
     "text": [
      "Requirement already satisfied: vaderSentiment in c:\\users\\user\\appdata\\local\\programs\\python\\python311\\lib\\site-packages (3.3.2)\n",
      "Requirement already satisfied: requests in c:\\users\\user\\appdata\\roaming\\python\\python311\\site-packages (from vaderSentiment) (2.31.0)\n",
      "Requirement already satisfied: charset-normalizer<4,>=2 in c:\\users\\user\\appdata\\roaming\\python\\python311\\site-packages (from requests->vaderSentiment) (3.3.2)\n",
      "Requirement already satisfied: idna<4,>=2.5 in c:\\users\\user\\appdata\\roaming\\python\\python311\\site-packages (from requests->vaderSentiment) (3.6)\n",
      "Requirement already satisfied: urllib3<3,>=1.21.1 in c:\\users\\user\\appdata\\roaming\\python\\python311\\site-packages (from requests->vaderSentiment) (2.2.0)\n",
      "Requirement already satisfied: certifi>=2017.4.17 in c:\\users\\user\\appdata\\roaming\\python\\python311\\site-packages (from requests->vaderSentiment) (2024.2.2)\n",
      "Note: you may need to restart the kernel to use updated packages.\n"
     ]
    },
    {
     "name": "stderr",
     "output_type": "stream",
     "text": [
      "\n",
      "[notice] A new release of pip is available: 24.0 -> 24.3.1\n",
      "[notice] To update, run: python.exe -m pip install --upgrade pip\n"
     ]
    }
   ],
   "source": [
    "pip install vaderSentiment\n"
   ]
  },
  {
   "cell_type": "code",
   "execution_count": 2,
   "id": "ee39c43f-6b3a-4742-a049-4450a4d86be2",
   "metadata": {},
   "outputs": [
    {
     "name": "stdout",
     "output_type": "stream",
     "text": [
      "VADER Sentiment installed successfully!\n"
     ]
    }
   ],
   "source": [
    "from vaderSentiment.vaderSentiment import SentimentIntensityAnalyzer\n",
    "print(\"VADER Sentiment installed successfully!\")\n"
   ]
  },
  {
   "cell_type": "code",
   "execution_count": null,
   "id": "ffc037e3-e316-4b76-a3a0-ab3e85f236aa",
   "metadata": {},
   "outputs": [],
   "source": [
    "from vaderSentiment.vaderSentiment import SentimentIntensityAnalyzer\n",
    "import pandas as pd\n",
    "\n",
    "# Load the scraped data\n",
    "data = pd.read_csv('reddit_scraped_data.csv')  # Replace with your file name\n",
    "\n",
    "# Initialize VADER Sentiment Analyzer\n",
    "analyzer = SentimentIntensityAnalyzer()\n",
    "\n",
    "# Function to compute sentiment scores\n",
    "def analyze_sentiment(text):\n",
    "    if pd.isna(text):  # Handle missing values\n",
    "        return {'positive': 0, 'neutral': 0, 'negative': 0, 'compound': 0}\n",
    "    scores = analyzer.polarity_scores(text)\n",
    "    return scores\n",
    "\n",
    "# Apply sentiment analysis to the text data\n",
    "data['sentiment_scores'] = data['cleaned_text'].apply(analyze_sentiment)\n",
    "\n",
    "# Extract sentiment components into separate columns\n",
    "data['positive'] = data['sentiment_scores'].apply(lambda x: x['pos'])\n",
    "data['neutral'] = data['sentiment_scores'].apply(lambda x: x['neu'])\n",
    "data['negative'] = data['sentiment_scores'].apply(lambda x: x['neg'])\n",
    "data['compound'] = data['sentiment_scores'].apply(lambda x: x['compound'])\n",
    "\n",
    "# Categorize sentiment based on compound score\n",
    "def categorize_sentiment(compound_score):\n",
    "    if compound_score >= 0.05:\n",
    "        return 'positive'\n",
    "    elif compound_score <= -0.05:\n",
    "        return 'negative'\n",
    "    else:\n",
    "        return 'neutral'\n",
    "\n",
    "data['sentiment_category'] = data['compound'].apply(categorize_sentiment)\n",
    "\n",
    "# Save the results\n",
    "data.to_csv('reddit_data_with_sentiment.csv', index=False)\n",
    "print(\"Sentiment analysis complete! Results saved to 'reddit_data_with_sentiment.csv'\")\n"
   ]
  },
  {
   "cell_type": "code",
   "execution_count": null,
   "id": "17e1640e-9eee-4405-a7ec-3daa155cc836",
   "metadata": {},
   "outputs": [],
   "source": [
    "#Prepare Data for the Model:\n",
    "from sklearn.preprocessing import LabelEncoder\n",
    "\n",
    "# Convert sentiment category into numerical labels\n",
    "label_encoder = LabelEncoder()\n",
    "data['sentiment_category_encoded'] = label_encoder.fit_transform(data['sentiment_category'])\n",
    "\n",
    "# Combine numerical sentiment features with other features\n",
    "X_sentiment = data[['positive', 'neutral', 'negative', 'compound', 'sentiment_category_encoded']]\n"
   ]
  },
  {
   "cell_type": "code",
   "execution_count": null,
   "id": "63ac21c2-22d8-4fa0-8772-97b2c0ab87b8",
   "metadata": {},
   "outputs": [],
   "source": [
    "#Data Visualisation\n",
    "import matplotlib.pyplot as plt\n",
    "import seaborn as sns\n",
    "\n",
    "# Plot sentiment categories\n",
    "sns.countplot(x='sentiment_category', data=data, order=['positive', 'neutral', 'negative'])\n",
    "plt.title('Sentiment Category Distribution')\n",
    "plt.show()\n"
   ]
  },
  {
   "cell_type": "code",
   "execution_count": null,
   "id": "d7351795-bad1-4e5a-9ab0-b31acc9ad0e7",
   "metadata": {},
   "outputs": [],
   "source": []
  },
  {
   "cell_type": "code",
   "execution_count": null,
   "id": "b1a1f8d7-b394-4ace-b54e-20c6ced2a5a2",
   "metadata": {},
   "outputs": [],
   "source": []
  }
 ],
 "metadata": {
  "kernelspec": {
   "display_name": "Python 3 (ipykernel)",
   "language": "python",
   "name": "python3"
  },
  "language_info": {
   "codemirror_mode": {
    "name": "ipython",
    "version": 3
   },
   "file_extension": ".py",
   "mimetype": "text/x-python",
   "name": "python",
   "nbconvert_exporter": "python",
   "pygments_lexer": "ipython3",
   "version": "3.11.8"
  }
 },
 "nbformat": 4,
 "nbformat_minor": 5
}
